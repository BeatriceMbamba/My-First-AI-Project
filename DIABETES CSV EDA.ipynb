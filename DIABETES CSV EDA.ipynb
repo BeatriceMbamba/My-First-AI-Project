import pandas as pd
import numpy as np
import matplotlib.pyplot as plt
import seaborn as sns
#to ignore warnings
import warnings
warnings.filterwarnings('ignore')

#Loading the CSV file into a data frame
df = pd.read_csv(r"C:\Users\computer\Desktop\BEATRICE\ML Journey\diabetes_prediction_dataset.csv")


print (df)
            
    
    

#Displaying the first few rows of the dataframe
df.head()

#Displaying the last few rows of the dataframe
df.tail()

#Quick summary of the dataframe; columns, data types etc.
df.info()

#Checking how many unique entries are in each category
df.nunique()

#Calculating the number of missing values in each column
df.isnull().sum()

#Calculating the percentage of missing values for each column
(df.isnull().sum()/(len(df)))*100

#Checking what unique values are in gender
df['gender'].unique()

#Changing the gender into lower cases
df['gender']= df['gender'].str.strip().str.lower() 

#Checking how many entries fall in each gender: male, female and diabetes

df['gender'].value_counts()
df['diabetes'].value_counts()

#Removing the other gender category
df=df[df['gender']!='other']

#Rechecking how many entries fall in each gender: expecting male, female 
df['gender'].value_counts()

#Checking how many unique entries are in each category
df.nunique()

#Checking for null values 
df.isnull().sum()

#Checking for duplicates
df.duplicated().sum()

#Dropping the duplicates
df=df.drop_duplicates()

#Checking the data types in each column
df.dtypes

df.info()

#Describing the data
df.describe()
#results are showing numerical columns which are age, bmi, HbA1c level and blood glucose level. The hypertension, diabetes and
#heart diseases are categorical columns

#To check for outliers in the numerical columns using density plots
numerical_columns=['age', 'bmi', 'HbA1c_level', 'blood_glucose_level']

for column in numerical_columns:
    plt.figure(figsize=(10,6))
    sns.kdeplot(df[column], shade=True) #creates the density plot and shades under the density curve for better visualization
    plt.title(f"Density Plot for {column}") 
    plt.xlabel(column)
    plt.ylabel('Density')
    plt.show

#We have multiple peaks under some columns, especially blood glucose levels and HbA1c levels 
# different HbA1c peaks indicates different levelsof glycemic control or types of diabetes management
# different blood glucose levels peaks are indicating different levels of  glucose control; well controlled & poorly controlled

#Now lets examine the group characteristics, comparing the density plots with the categorical variables e.g gender, diabetes etc
group1='Diabetic'
group2='Non-Diabetic'
categorical_columns =['gender', 'diabetes', 'heart_disease', 'hypertension']
for column in categorical_columns:
    plt.figure(figsize=(10,6))
sns.kdeplot(
        data=df[df['diabetes'] == 1][column], 
        label=group1, 
        shade=True
            )
label=group1, shade=True
sns.kdeplot(
        data=df[df['diabetes'] == 0][column], 
        label=group2, 
        shade=True
            ) 
label=group2, shade=True
plt.title(f"Density plot for {column} by Diabetes Status")
plt.xlabel(column)
plt.ylabel('Density')
plt.legend()
plt.show()


#Calculating the correlations between attributes
#Excluding the string values, and including the floats and integers only
numeric_df=df.select_dtypes(include=['float64', 'int64'])

correlation_matrix=numeric_df.corr()
print (correlation_matrix)


    }
   ],
   "source": [
    "#We have multiple peaks under some columns, especially blood glucose levels and HbA1c levels \n",
    "# different HbA1c peaks indicates different levelsof glycemic control or types of diabetes management\n",
    "# different blood glucose levels peaks are indicating different levels of  glucose control; well controlled & poorly controlled\n",
    "\n",
    "#Now lets examine the group characteristics, comparing the density plots with the categorical variables e.g gender, diabetes etc\n",
    "group1='Diabetic'\n",
    "group2='Non-Diabetic'\n",
    "categorical_columns =['gender', 'diabetes', 'heart_disease', 'hypertension']\n",
    "for column in categorical_columns:\n",
    "    plt.figure(figsize=(10,6))\n",
    "sns.kdeplot(\n",
    "        data=df[df['diabetes'] == 1][column], \n",
    "        label=group1, \n",
    "        shade=True\n",
    "            )\n",
    "label=group1, shade=True\n",
    "sns.kdeplot(\n",
    "        data=df[df['diabetes'] == 0][column], \n",
    "        label=group2, \n",
    "        shade=True\n",
    "            ) \n",
    "label=group2, shade=True\n",
    "plt.title(f\"Density plot for {column} by Diabetes Status\")\n",
    "plt.xlabel(column)\n",
    "plt.ylabel('Density')\n",
    "plt.legend()\n",
    "plt.show()\n"
   ]
  },
  {
   "cell_type": "code",
   "execution_count": null,
   "id": "5e0aa200",
   "metadata": {},
   "outputs": [],
   "source": []
  }
 ],
 "metadata": {
  "kernelspec": {
   "display_name": "Python 3 (ipykernel)",
   "language": "python",
   "name": "python3"
  },
  "language_info": {
   "codemirror_mode": {
    "name": "ipython",
    "version": 3
   },
   "file_extension": ".py",
   "mimetype": "text/x-python",
   "name": "python",
   "nbconvert_exporter": "python",
   "pygments_lexer": "ipython3",
   "version": "3.11.5"
  }
 },
 "nbformat": 4,
 "nbformat_minor": 5
}
