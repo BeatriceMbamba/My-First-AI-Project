{
 "cells": [
  {
   "cell_type": "code",
   "execution_count": 1,
   "id": "0a23e9b5",
   "metadata": {},
   "outputs": [
    {
     "name": "stdout",
     "output_type": "stream",
     "text": [
      "<class 'str'>\n"
     ]
    }
   ],
   "source": [
    "print (type('beatrice'))\n"
   ]
  },
  {
   "cell_type": "code",
   "execution_count": 2,
   "id": "a217239e",
   "metadata": {},
   "outputs": [
    {
     "ename": "TypeError",
     "evalue": "bad operand type for unary +: 'str'",
     "output_type": "error",
     "traceback": [
      "\u001b[1;31m---------------------------------------------------------------------------\u001b[0m",
      "\u001b[1;31mTypeError\u001b[0m                                 Traceback (most recent call last)",
      "Cell \u001b[1;32mIn[2], line 4\u001b[0m\n\u001b[0;32m      1\u001b[0m x\u001b[38;5;241m=\u001b[39m\u001b[38;5;241m1\u001b[39m\n\u001b[0;32m      2\u001b[0m y\u001b[38;5;241m=\u001b[39m\u001b[38;5;124m'\u001b[39m\u001b[38;5;124mmachine\u001b[39m\u001b[38;5;124m'\u001b[39m\n\u001b[1;32m----> 4\u001b[0m \u001b[38;5;28mprint\u001b[39m (x\u001b[38;5;241m=\u001b[39m\u001b[38;5;241m+\u001b[39my)\n",
      "\u001b[1;31mTypeError\u001b[0m: bad operand type for unary +: 'str'"
     ]
    }
   ],
   "source": [
    "x=1\n",
    "y='machine'\n",
    "\n",
    "print (x=+y)"
   ]
  },
  {
   "cell_type": "code",
   "execution_count": 14,
   "id": "57e153d3",
   "metadata": {},
   "outputs": [
    {
     "name": "stdout",
     "output_type": "stream",
     "text": [
      "MACHINE LEARNINGGG!!!\n"
     ]
    }
   ],
   "source": [
    "string='machine learninggg!!!'\n",
    "print (string.upper())"
   ]
  },
  {
   "cell_type": "code",
   "execution_count": 22,
   "id": "12607caf",
   "metadata": {},
   "outputs": [],
   "source": [
    " class Dog:\n",
    "    def __init__(self):\n",
    "        self.name= 'Cupcake'\n",
    "        self.age=2\n",
    "        self.breed='Rotweiler'\n",
    "    def print_info(self):\n",
    "    \n",
    "        print (self.name, 'is a', self.age, 'year old', self.breed)\n",
    "    \n",
    " "
   ]
  },
  {
   "cell_type": "code",
   "execution_count": 21,
   "id": "083dffa8",
   "metadata": {},
   "outputs": [
    {
     "name": "stdout",
     "output_type": "stream",
     "text": [
      "Room 1's area: 150\n",
      "Room 3's area: 168\n"
     ]
    }
   ],
   "source": [
    "class Rectangle:\n",
    "    def __init__(self):\n",
    "        self.length = 1\n",
    "        self.width = 1\n",
    "    def area(self):\n",
    "        return self.length * self.width\n",
    "\n",
    "room_1 = Rectangle()\n",
    "room_1.length = 10\n",
    "room_1.width = 15\n",
    "print(\"Room 1's area:\", room_1.area())\n",
    "room_3 = Rectangle()\n",
    "room_3.length = 12\n",
    "room_3.width = 14\n",
    "print(\"Room 3's area:\", room_3.area())"
   ]
  },
  {
   "cell_type": "code",
   "execution_count": 39,
   "id": "6c82285b",
   "metadata": {},
   "outputs": [
    {
     "name": "stdout",
     "output_type": "stream",
     "text": [
      "The next person is a 22 year old girl called Beatrice\n"
     ]
    }
   ],
   "source": [
    "class Person:\n",
    "    def __init__(self, name, age):\n",
    "        self.name=name\n",
    "        self.age=age\n",
    "        \n",
    "    my_person= Person ('Beatrice', 22)\n",
    " \n",
    "        \n",
    "    print ('The next person is a', my_person.age, 'year old girl called', my_person.name)"
   ]
  },
  {
   "cell_type": "code",
   "execution_count": 46,
   "id": "2de7cbd6",
   "metadata": {},
   "outputs": [
    {
     "ename": "NameError",
     "evalue": "name 'Car' is not defined",
     "output_type": "error",
     "traceback": [
      "\u001b[1;31m---------------------------------------------------------------------------\u001b[0m",
      "\u001b[1;31mNameError\u001b[0m                                 Traceback (most recent call last)",
      "Cell \u001b[1;32mIn[46], line 1\u001b[0m\n\u001b[1;32m----> 1\u001b[0m \u001b[38;5;28;01mclass\u001b[39;00m \u001b[38;5;21;01mCar\u001b[39;00m:\n\u001b[0;32m      2\u001b[0m     \u001b[38;5;28;01mdef\u001b[39;00m \u001b[38;5;21m__init__\u001b[39m(\u001b[38;5;28mself\u001b[39m, model, make):\n\u001b[0;32m      3\u001b[0m         \u001b[38;5;28mself\u001b[39m\u001b[38;5;241m.\u001b[39mmodel\u001b[38;5;241m=\u001b[39mmodel\n",
      "Cell \u001b[1;32mIn[46], line 5\u001b[0m, in \u001b[0;36mCar\u001b[1;34m()\u001b[0m\n\u001b[0;32m      3\u001b[0m     \u001b[38;5;28mself\u001b[39m\u001b[38;5;241m.\u001b[39mmodel\u001b[38;5;241m=\u001b[39mmodel\n\u001b[0;32m      4\u001b[0m     \u001b[38;5;28mself\u001b[39m\u001b[38;5;241m.\u001b[39mmake\u001b[38;5;241m=\u001b[39mmake\n\u001b[1;32m----> 5\u001b[0m my_car\u001b[38;5;241m=\u001b[39m Car (\u001b[38;5;124m'\u001b[39m\u001b[38;5;124mToyota\u001b[39m\u001b[38;5;124m'\u001b[39m, \u001b[38;5;124m'\u001b[39m\u001b[38;5;124mPrado\u001b[39m\u001b[38;5;124m'\u001b[39m)\n\u001b[0;32m      7\u001b[0m \u001b[38;5;28mprint\u001b[39m (\u001b[38;5;124m'\u001b[39m\u001b[38;5;124mMy\u001b[39m\u001b[38;5;124m'\u001b[39m, my_car\u001b[38;5;241m.\u001b[39mmodel, my_car\u001b[38;5;241m.\u001b[39mmake, \u001b[38;5;124m'\u001b[39m\u001b[38;5;124mjust arrived in Tanzania\u001b[39m\u001b[38;5;124m'\u001b[39m)\n",
      "\u001b[1;31mNameError\u001b[0m: name 'Car' is not defined"
     ]
    }
   ],
   "source": [
    "class Car:\n",
    "    def __init__(self, model, make):\n",
    "        self.model=model\n",
    "        self.make=make\n",
    "    my_car= Car ('Toyota', 'Prado')\n",
    "    \n",
    "    print ('My', my_car.model, my_car.make, 'just arrived in Tanzania')"
   ]
  },
  {
   "cell_type": "code",
   "execution_count": 47,
   "id": "a0c0a3d3",
   "metadata": {},
   "outputs": [],
   "source": [
    "class Dog:\n",
    "    def bark (self):\n",
    "        print ('bark')"
   ]
  },
  {
   "cell_type": "code",
   "execution_count": 48,
   "id": "bf3764da",
   "metadata": {},
   "outputs": [
    {
     "name": "stdout",
     "output_type": "stream",
     "text": [
      "<class '__main__.Dog'>\n"
     ]
    }
   ],
   "source": [
    "d= Dog ()\n",
    "print (type(d))"
   ]
  },
  {
   "cell_type": "code",
   "execution_count": 49,
   "id": "71d2ffaf",
   "metadata": {},
   "outputs": [
    {
     "name": "stdout",
     "output_type": "stream",
     "text": [
      "bark\n"
     ]
    }
   ],
   "source": [
    "d.bark()"
   ]
  },
  {
   "cell_type": "code",
   "execution_count": 55,
   "id": "295b3c65",
   "metadata": {},
   "outputs": [
    {
     "name": "stdout",
     "output_type": "stream",
     "text": [
      "Beatrice.Mbamba@gmail.com\n",
      "Gertrude.Pelusi@gmail.com\n",
      "Beatrice Mbamba\n",
      "Gertrude Pelusi\n"
     ]
    }
   ],
   "source": [
    "class Employee:\n",
    "    def __init__(self, first, last, pay):\n",
    "        self.first = first\n",
    "        self.last = last\n",
    "        self.pay = pay\n",
    "        self.email = first + '.' + last + '@gmail.com'\n",
    "    def fullname(self):\n",
    "        return '{} {}'.format(self.first, self.last)\n",
    "\n",
    "emp_1= Employee('Beatrice', 'Mbamba', 500000)\n",
    "emp_2= Employee('Gertrude', 'Pelusi', 700000)\n",
    "\n",
    "#print (emp_1)\n",
    "#print (emp_2)\n",
    "\n",
    "\n",
    "print (emp_1.email)\n",
    "print (emp_2.email)\n",
    "\n",
    "print (emp_1.fullname())\n",
    "print (emp_2.fullname())\n"
   ]
  },
  {
   "cell_type": "code",
   "execution_count": 67,
   "id": "a229eecd",
   "metadata": {},
   "outputs": [
    {
     "name": "stdout",
     "output_type": "stream",
     "text": [
      "Beatrice Mbamba is 22\n",
      "Caroline Mbamba is 16\n",
      "Patience Mbamba is 12\n"
     ]
    }
   ],
   "source": [
    "class Siblings:\n",
    "    def __init__(self, first, last, age):\n",
    "        self.first = first\n",
    "        self.last = last\n",
    "        self.age = age\n",
    "    def fullname (self):\n",
    "        print (f\"{self.first} {self.last} is {self.age}\")\n",
    "    \n",
    "sibling_1= Siblings('Beatrice', 'Mbamba', 22)\n",
    "sibling_2= Siblings('Caroline', 'Mbamba', 16)\n",
    "sibling_3= Siblings('Patience', 'Mbamba', 12)\n",
    "\n",
    "sibling_1.fullname()\n",
    "sibling_2.fullname()\n",
    "sibling_3.fullname()"
   ]
  },
  {
   "cell_type": "code",
   "execution_count": 66,
   "id": "c3cebb78",
   "metadata": {},
   "outputs": [
    {
     "name": "stdout",
     "output_type": "stream",
     "text": [
      "Beatrice Mbamba is a Medical Microbiology student in year 4\n",
      "Madalo Banda is a Biomedical Engineering student in year 5\n",
      "Angela Chisi is a Immunology student in year 4\n",
      "Gertrude Pelusi is a Medical Microbiology student in year 1\n"
     ]
    }
   ],
   "source": [
    "class Students:\n",
    "    def __init__(self, first, last, course, level):\n",
    "        self.first = first\n",
    "        self.last = last\n",
    "        self.course = course\n",
    "        self.level = level\n",
    "\n",
    "    def print_info(self):\n",
    "        print(f\"{self.first} {self.last} is a {self.course} student in year {self.level}\")\n",
    "\n",
    "# Creating instances of the Students class\n",
    "student_1 = Students('Beatrice', 'Mbamba', 'Medical Microbiology', 4)\n",
    "student_2 = Students('Madalo', 'Banda', 'Biomedical Engineering', 5)\n",
    "student_3 = Students('Angela', 'Chisi', 'Immunology', 4)\n",
    "student_4 = Students('Gertrude', 'Pelusi', 'Medical Microbiology', 1)\n",
    "\n",
    "# Printing information about each student\n",
    "student_1.print_info()\n",
    "student_2.print_info()\n",
    "student_3.print_info()\n",
    "student_4.print_info()"
   ]
  },
  {
   "cell_type": "code",
   "execution_count": 68,
   "id": "5aa8bab8",
   "metadata": {},
   "outputs": [
    {
     "name": "stdout",
     "output_type": "stream",
     "text": [
      " Beatrice Mbamba is the 22 year old sibling that is too serious\n",
      " Caroline Mbamba is the 16 year old sibling that is short-tempered\n",
      " Patience Mbamba is the 12 year old sibling that is obedient\n"
     ]
    }
   ],
   "source": [
    "class Siblings:\n",
    "    def __init__(self, first, last, age, character):\n",
    "        self.first= first\n",
    "        self.last= last\n",
    "        self.age= age\n",
    "        self.character= character\n",
    "    def print_info(self):\n",
    "        print(f\" {self.first} {self.last} is the {self.age} year old sibling that is {self.character}\")\n",
    "\n",
    "sibling_1= Siblings('Beatrice', 'Mbamba', 22, 'too serious')\n",
    "sibling_2= Siblings('Caroline', 'Mbamba', 16, 'short-tempered')\n",
    "sibling_3= Siblings('Patience', 'Mbamba', 12, 'obedient')\n",
    "\n",
    "sibling_1.print_info()\n",
    "sibling_2.print_info()\n",
    "sibling_3.print_info()"
   ]
  },
  {
   "cell_type": "code",
   "execution_count": 73,
   "id": "b6e3b0f0",
   "metadata": {},
   "outputs": [
    {
     "name": "stdout",
     "output_type": "stream",
     "text": [
      " The Gold Golden Retriever is very so quiet\n",
      " The Black Dachshund is very energetic\n",
      " The White Chihuahua is very violent\n"
     ]
    }
   ],
   "source": [
    "class Dogs:\n",
    "    def __init__(self, color, breed, character):\n",
    "        self.color= color\n",
    "        self.breed= breed\n",
    "        self.character= character\n",
    "    def print_info(self):\n",
    "        print (f\" The {self.color} {self.breed} is very {self.character}\")\n",
    "dog1= Dogs( 'Gold', 'Golden Retriever','so quiet')\n",
    "dog2= Dogs( 'Black', 'Dachshund', 'energetic')\n",
    "dog3= Dogs('White','Chihuahua', 'violent')\n",
    "\n",
    "dog1.print_info()\n",
    "dog2.print_info()\n",
    "dog3.print_info()\n",
    "\n",
    "    "
   ]
  },
  {
   "cell_type": "code",
   "execution_count": 82,
   "id": "f99e5226",
   "metadata": {},
   "outputs": [
    {
     "name": "stdout",
     "output_type": "stream",
     "text": [
      "11235813"
     ]
    }
   ],
   "source": [
    "f=0\n",
    "g=1\n",
    "while g<20:\n",
    "    print (g , end='')\n",
    "    temp= f\n",
    "    f=g\n",
    "    g=temp + g"
   ]
  },
  {
   "cell_type": "code",
   "execution_count": null,
   "id": "39aaeb3d",
   "metadata": {},
   "outputs": [],
   "source": []
  }
 ],
 "metadata": {
  "kernelspec": {
   "display_name": "Python 3 (ipykernel)",
   "language": "python",
   "name": "python3"
  },
  "language_info": {
   "codemirror_mode": {
    "name": "ipython",
    "version": 3
   },
   "file_extension": ".py",
   "mimetype": "text/x-python",
   "name": "python",
   "nbconvert_exporter": "python",
   "pygments_lexer": "ipython3",
   "version": "3.11.5"
  }
 },
 "nbformat": 4,
 "nbformat_minor": 5
}
