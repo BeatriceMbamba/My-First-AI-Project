{
 "cells": [
  {
   "cell_type": "markdown",
   "metadata": {},
   "source": [
    "# Machine Learning is all about working with Data and bringing out meaning out of it."
   ]
  },
  {
   "cell_type": "markdown",
   "metadata": {},
   "source": [
    "# Data will be in the following formats:\n",
    "\n",
    "CSV (Comma-Separated Values): Plain text file with values separated by commas, used for tabular data.\n",
    "\n",
    "Excel (XLS/XLSX): Spreadsheet file formats used by Microsoft Excel, for tabular data.\n",
    "\n",
    "TSV (Tab-Separated Values): Similar to CSV but with values separated by tabs.\n",
    "\n",
    "Plain Text (TXT): Unformatted text files, used for raw text data.\n",
    "\n",
    "JSON (JavaScript Object Notation): Lightweight data-interchange format, Used for structured data and also often used for APIs and data exchange.\n",
    "\n",
    "XML (eXtensible Markup Language): Used for hierarchical data. Markup language for encoding documents, commonly used in web services.\n",
    "\n",
    "HTML (HyperText Markup Language): Markup language for creating web pages.\n",
    "\n",
    "JPEG/JPG: Common image file formats with lossy compression.\n",
    "\n",
    "PNG: Image file format with lossless compression.\n",
    "\n",
    "BMP: Bitmap image file format.\n",
    "\n",
    "GIF: Bitmap image format that supports animations.\n",
    "\n",
    "WAV: Audio file format for storing waveforms.\n",
    "\n",
    "MP3: Audio file format with lossy compression.\n",
    "\n",
    "FLAC: Audio file format with lossless compression.\n",
    "\n",
    "AAC: Advanced audio coding format with lossy compression.\n",
    "\n",
    "MP4: Multimedia container format for storing video and audio.\n",
    "\n",
    "AVI: Multimedia container format introduced by Microsoft.\n",
    "\n",
    "MOV: Multimedia container format used by QuickTime.\n",
    "\n",
    "MKV: Multimedia container format for video files.\n",
    "\n",
    "SQL Databases: Structured data stored in relational databases like MySQL, PostgreSQL.\n",
    "\n",
    "NoSQL Databases: Structured data stored in non-relational databases like MongoDB, Cassandra.\n",
    "\n",
    "HDF5: File format and tools for managing complex data.\n",
    "\n",
    "Shapefile: Geospatial vector data format for GIS software.\n",
    "\n",
    "GeoJSON: Format for encoding geographic data structures.\n",
    "\n",
    "FASTA: Text-based format for representing nucleotide or peptide sequences.\n",
    "\n",
    "VCF (Variant Call Format): Format for storing gene sequence variations.\n"
   ]
  },
  {
   "cell_type": "markdown",
   "metadata": {},
   "source": [
    "# CSV (Comma-Separated Values): Used for tabular data.\n",
    "Headers: Column names in the first row.\n",
    "Rows: Data entries separated by commas.\n",
    "#name,age,city\n",
    "#Precious,72,Mzuzu\n",
    "#James,63,Blantyre"
   ]
  },
  {
   "cell_type": "markdown",
   "metadata": {},
   "source": [
    "#Dont run this cell the code below is for demonstration purpose only\n",
    "# JSON (JavaScript Object Notation): Used for structured data.\n",
    "{\n",
    " \"name\": \"Precious\",\n",
    " \"age\": 72,\n",
    " \"city\": \"Mzuzu\"\n",
    "}"
   ]
  },
  {
   "cell_type": "code",
   "execution_count": 26,
   "metadata": {},
   "outputs": [
    {
     "ename": "SyntaxError",
     "evalue": "invalid syntax (699431307.py, line 3)",
     "output_type": "error",
     "traceback": [
      "\u001b[1;36m  Cell \u001b[1;32mIn[26], line 3\u001b[1;36m\u001b[0m\n\u001b[1;33m    <person>\u001b[0m\n\u001b[1;37m    ^\u001b[0m\n\u001b[1;31mSyntaxError\u001b[0m\u001b[1;31m:\u001b[0m invalid syntax\n"
     ]
    }
   ],
   "source": [
    "#Dont run this cell the code below is for demonstration purpose only\n",
    "# XML (eXtensible Markup Language): Used for hierarchical data.\n",
    "<person>\n",
    "  <name>Precious</name>\n",
    "  <age>72</age>\n",
    "  <city>Mzuzu</city>\n",
    "</person>"
   ]
  },
  {
   "cell_type": "raw",
   "metadata": {},
   "source": [
    "When dealing with data, in Python, data is formatted in various ways. Formatting refers to a variety of tasks, such as formatting strings, organizing code, and presenting output. Here are some different ways to handle formatting in Python:\n"
   ]
  },
  {
   "cell_type": "markdown",
   "metadata": {},
   "source": [
    "# Data formatting"
   ]
  },
  {
   "cell_type": "markdown",
   "metadata": {},
   "source": [
    "# 1. String Formatting"
   ]
  },
  {
   "cell_type": "markdown",
   "metadata": {},
   "source": [
    "i. Old Style Formatting (% Operator) This is an older method similar to C's printf-style formatting."
   ]
  },
  {
   "cell_type": "code",
   "execution_count": 31,
   "metadata": {},
   "outputs": [
    {
     "name": "stdout",
     "output_type": "stream",
     "text": [
      "My name is Precious and I am 72 years old.\n"
     ]
    }
   ],
   "source": [
    "name = \"Precious\"\n",
    "age = 72\n",
    "formatted_string = \"My name is %s and I am %d years old.\" % (name, age)\n",
    "print(formatted_string)"
   ]
  },
  {
   "cell_type": "markdown",
   "metadata": {},
   "source": [
    "ii. New Style Formatting (str.format)\n",
    "Introduced in Python 3, this method is more powerful and flexible."
   ]
  },
  {
   "cell_type": "code",
   "execution_count": 34,
   "metadata": {},
   "outputs": [
    {
     "name": "stdout",
     "output_type": "stream",
     "text": [
      "My name is Precious and I am 72 years old.\n"
     ]
    }
   ],
   "source": [
    "name = \"Precious\"\n",
    "age = 72\n",
    "formatted_string = \"My name is {} and I am {} years old.\".format(name, age)\n",
    "print(formatted_string)"
   ]
  },
  {
   "cell_type": "raw",
   "metadata": {},
   "source": [
    "iii. f-Strings (Formatted String Literals)\n",
    "Introduced in Python 3.6, this is the most modern and concise method."
   ]
  },
  {
   "cell_type": "code",
   "execution_count": 36,
   "metadata": {},
   "outputs": [
    {
     "name": "stdout",
     "output_type": "stream",
     "text": [
      "My name is Precious and I am 72 years old.\n"
     ]
    }
   ],
   "source": [
    "name = \"Precious\"\n",
    "age = 72\n",
    "formatted_string = f\"My name is {name} and I am {age} years old.\"\n",
    "print(formatted_string)"
   ]
  },
  {
   "cell_type": "markdown",
   "metadata": {},
   "source": [
    "# 2. Formatting Numbers\n",
    "i. Specifying Decimal Places"
   ]
  },
  {
   "cell_type": "code",
   "execution_count": 39,
   "metadata": {},
   "outputs": [
    {
     "name": "stdout",
     "output_type": "stream",
     "text": [
      "123.46\n",
      "123.46\n"
     ]
    }
   ],
   "source": [
    "value = 123.456789\n",
    "formatted_value = \"{:.2f}\".format(value) #formating to 2sf\n",
    "print(formatted_value)  # Output: 123.46\n",
    "\n",
    "# Using f-strings\n",
    "formatted_value = f\"{value:.2f}\"\n",
    "print(formatted_value)  # Output: 123.46"
   ]
  },
  {
   "cell_type": "raw",
   "metadata": {},
   "source": [
    "ii. Adding Commas as Thousand Separators "
   ]
  },
  {
   "cell_type": "code",
   "execution_count": 41,
   "metadata": {},
   "outputs": [
    {
     "name": "stdout",
     "output_type": "stream",
     "text": [
      "123,456,789\n",
      "123,456,789\n"
     ]
    }
   ],
   "source": [
    "value = 123456789\n",
    "formatted_value = \"{:,}\".format(value)\n",
    "print(formatted_value)  # Output: 123,456,789\n",
    "\n",
    "# Using f-strings\n",
    "formatted_value = f\"{value:,}\"\n",
    "print(formatted_value)  # Output: 123,456,789"
   ]
  },
  {
   "cell_type": "markdown",
   "metadata": {},
   "source": [
    "# 3. Aligning Text\n",
    "Left, Right, and Center Alignment"
   ]
  },
  {
   "cell_type": "code",
   "execution_count": 44,
   "metadata": {},
   "outputs": [
    {
     "name": "stdout",
     "output_type": "stream",
     "text": [
      "Hello     \n",
      "     Hello\n",
      "  Hello   \n"
     ]
    }
   ],
   "source": [
    "text = \"Hello\"\n",
    "print(f\"{text:<10}\")  # Left align (pad with spaces)\n",
    "print(f\"{text:>10}\")  # Right align (pad with spaces)\n",
    "print(f\"{text:^10}\")  # Center align (pad with spaces)"
   ]
  },
  {
   "cell_type": "markdown",
   "metadata": {},
   "source": [
    "# 4. Formatting Output in Data Structures\n",
    "Using the pprint module:\n",
    "\n",
    "It is particularly useful when dealing with complex nested data structures such as lists of dictionaries, , dictionaries of dictionaries, or deeply nested JSON-like objects.\n",
    "\n",
    "Make it more readable especially for nested structures.:"
   ]
  },
  {
   "cell_type": "code",
   "execution_count": 47,
   "metadata": {},
   "outputs": [
    {
     "name": "stdout",
     "output_type": "stream",
     "text": [
      "[{'age': 92, 'city': 'Mzuzu', 'name': 'Precious'},\n",
      " {'age': 63, 'city': 'Blantyre', 'name': 'James'},\n",
      " {'age': 5,\n",
      "  'city': {'Country': 'Malawi', 'name': 'Blantyre'},\n",
      "  'name': 'Connie'}]\n"
     ]
    }
   ],
   "source": [
    "# Example usage\n",
    "import pprint\n",
    "\n",
    "data = [\n",
    "    {\"name\": \"Precious\", \"age\": 92, \"city\": \"Mzuzu\"},\n",
    "    {\"name\": \"James\", \"age\": 63, \"city\": \"Blantyre\"},\n",
    "    {\"name\": \"Connie\", \"age\": 5, \"city\": {\"name\": \"Blantyre\", \"Country\": \"Malawi\"}}\n",
    "]\n",
    "\n",
    "pprint.pprint(data)"
   ]
  },
  {
   "cell_type": "code",
   "execution_count": 49,
   "metadata": {},
   "outputs": [
    {
     "ename": "SyntaxError",
     "evalue": "invalid syntax (3547942816.py, line 1)",
     "output_type": "error",
     "traceback": [
      "\u001b[1;36m  Cell \u001b[1;32mIn[49], line 1\u001b[1;36m\u001b[0m\n\u001b[1;33m    The nature of your data and the specific problem you are trying to solve determines whether to use classification,\u001b[0m\n\u001b[1;37m        ^\u001b[0m\n\u001b[1;31mSyntaxError\u001b[0m\u001b[1;31m:\u001b[0m invalid syntax\n"
     ]
    }
   ],
   "source": [
    "The nature of your data and the specific problem you are trying to solve determines whether to use classification, \n",
    "prediction (typically referring to regression), or another type of analysis.\n",
    "Here are some guidelines to help you decide:"
   ]
  },
  {
   "cell_type": "markdown",
   "metadata": {},
   "source": [
    "# 1. Classification: To predict a categorical outcome.\n",
    "Key Characteristics:\n",
    "Categorical Target Variable: The output variable is a category or class label.\n",
    "Finite Set of Possible Outputs: The target variable can take on one of a limited number of discrete values.\n",
    "Examples:\n",
    "Spam Detection: Classify emails as \"spam\" or \"not spam\".\n",
    "Image Classification: Classify images into categories like \"cat\", \"dog\", \"car\", etc.\n",
    "Sentiment Analysis: Classify text as having \"positive\", \"negative\", or \"neutral\" sentiment.\n",
    "Medical Diagnosis: Classify whether a patient has a certain disease (e.g., \"cancer\" or \"no cancer\")."
   ]
  },
  {
   "cell_type": "markdown",
   "metadata": {},
   "source": [
    "# 2. Regression (Prediction)\n",
    "Use regression when you want to predict a continuous outcome.\n",
    "\n",
    "**Key Characteristics:**\n",
    "\n",
    "**Continuous Target Variable:** The output variable is continuous and numerical.\n",
    "\n",
    "**Infinite Set of Possible Outputs:** The target variable can take on any value within a range.\n",
    "Examples:\n",
    "\n",
    "House Price Prediction: Predict the price of a house based on its features (e.g., size, location).\n",
    "\n",
    "Stock Price Prediction: Predict the future price of a stock based on historical data.\n",
    "\n",
    "Sales Forecasting: Predict future sales figures based on past data.\n",
    "\n",
    "Temperature Prediction: Predict future temperatures based on historical weather data."
   ]
  },
  {
   "cell_type": "markdown",
   "metadata": {},
   "source": [
    "# 3. Clustering\n",
    "Use clustering when you want to group data points into clusters based on similarity.\n",
    "\n",
    "**Key Characteristics:**\n",
    "No Predefined Target Variable: You don't have labeled outcomes.\n",
    "Unsupervised Learning: The algorithm identifies patterns and groups in the data without predefined labels.\n",
    "\n",
    "Examples:\n",
    "\n",
    "**Customer Segmentation:** Group customers into segments based on purchasing behavior.\n",
    "\n",
    "**Anomaly Detection:** Identify unusual patterns that do not fit into any cluster.\n",
    "\n",
    "**Market Basket Analysis:** Group products frequently bought together."
   ]
  },
  {
   "cell_type": "markdown",
   "metadata": {},
   "source": [
    "# 4. Anomaly Detection\n",
    "Use anomaly detection to identify outliers or abnormal instances in the data.\n",
    "\n",
    "Key Characteristics:\n",
    "Rare Events: Focus on identifying rare or unexpected events.\n",
    "Deviation from Norm: The goal is to detect data points that deviate significantly from the majority of data.\n",
    "\n",
    "Examples:\n",
    "Fraud Detection: Detect fraudulent transactions that deviate from normal transaction patterns.\n",
    "\n",
    "Network Security: Identify unusual network activity that may indicate a security breach.\n",
    "\n",
    "Quality Control: Detect defective products in a manufacturing process."
   ]
  },
  {
   "cell_type": "markdown",
   "metadata": {},
   "source": [
    "# 5. Time Series Analysis\n",
    "Use time series analysis when your data is sequential and you want to analyze trends over time.\n",
    "\n",
    "Key Characteristics:\n",
    "Temporal Data: Data points are collected or recorded at specific time intervals.\n",
    "Trend Analysis: Focus on identifying patterns, trends, and seasonal variations over time.\n",
    "\n",
    "Examples:\n",
    "\n",
    "Weather Forecasting: Predict future weather conditions based on historical data.\n",
    "\n",
    "Economic Forecasting: Analyze and predict economic indicators like GDP, unemployment rates, etc.\n",
    "\n",
    "Sales Analysis: Examine sales trends over time to predict future sales."
   ]
  },
  {
   "cell_type": "markdown",
   "metadata": {},
   "source": [
    "# How to Decide?\n",
    "**1.Identify the Problem Type:**\n",
    "\n",
    "Classification: If the problem involves predicting a category or class.\n",
    "\n",
    "Regression: If the problem involves predicting a numerical value.\n",
    "\n",
    "Clustering: If the goal is to group similar data points together without predefined labels.\n",
    "\n",
    "Anomaly Detection: If the goal is to identify rare or abnormal instances.\n",
    "\n",
    "Time Series Analysis: If the data involves time-based sequences.\n",
    "\n",
    "**2. Examine the Target Variable:**\n",
    "\n",
    "Categorical: Use classification.\n",
    "\n",
    "Continuous: Use regression.\n",
    "\n",
    "No Target Variable: Use clustering or anomaly detection.\n",
    "\n",
    "**3. Consider the Business Context:**\n",
    "\n",
    "**4. Understand the business problem and the type of decision you need to support.** \n",
    "This can often guide you towards the right type of analysis.\n",
    "**Explore the Data:**\n",
    "\n",
    "Perform exploratory data analysis (EDA) to understand the characteristics of your data, which can help in determining the appropriate method."
   ]
  },
  {
   "cell_type": "code",
   "execution_count": null,
   "metadata": {},
   "outputs": [],
   "source": []
  },
  {
   "cell_type": "markdown",
   "metadata": {
    "id": "fNRGmzX2CHwJ"
   },
   "source": [
    "# Machine Learning Basics\n",
    "\n",
    "Don't let the impressive name fool you. Machine learning is more or less the following steps\n",
    "\n",
    "1. Getting your data and cleaning it up\n",
    "1. Identify what parts of your data are **features**\n",
    "1. Identify what is your **target variable** that you'll guess based on your features\n",
    "1. Split your data in **training and testing sets**\n",
    "1. **Train** your model against the training set\n",
    "1. **Validate** your model against the testing set\n",
    "1. ????\n",
    "1. Profit\n",
    "\n",
    "We are going to use the Python library [scikit-learn](https://scikit-learn.org/stable/) and we are going to be doing a [classification](https://en.wikipedia.org/wiki/Statistical_classification) problem. "
   ]
  },
  {
   "cell_type": "markdown",
   "metadata": {},
   "source": [
    "# sklearn is also known as scikit-learn (science Kit)\n",
    "\n",
    "It is a popular open-source machine learning library for Python. \n",
    "It provides simple and efficient tools for data mining and data analysis, making it a valuable resource for building and deploying machine learning models.\n",
    "\n",
    "**Key Features of scikit-learn:**\n",
    "\n",
    "Simple and Efficient: Offers simple APIs to implement common machine learning algorithms efficiently.\n",
    "\n",
    "Wide Range of Algorithms: Includes a variety of machine learning algorithms for classification, regression, clustering, dimensionality reduction, model selection, and preprocessing.\n",
    "\n",
    "Built on Other Libraries: Built on top of NumPy, SciPy, and Matplotlib, ensuring compatibility and ease of integration with other scientific libraries in Python.\n",
    "\n",
    "Well-Documented: Comprehensive documentation and numerous tutorials make it accessible to both beginners and experienced practitioners.\n",
    "\n",
    "Community Support: Large and active community contributing to its continuous development and improvement.\n"
   ]
  },
  {
   "cell_type": "markdown",
   "metadata": {},
   "source": [
    "# Commonly Used Modules in scikit-learn:\n",
    "Classification: Uses Algorithms like:\n",
    "\n",
    "Logistic Regression, Support Vector Machines (SVM), Decision Trees, Random Forests, k-Nearest Neighbors (k-NN), and more.\n",
    "\n",
    "Regression: Linear Regression, Ridge Regression, Lasso, ElasticNet, Support Vector Regression (SVR), and others.\n",
    "\n",
    "Clustering: K-Means, Agglomerative Clustering, DBSCAN, Mean Shift, etc.\n",
    "\n",
    "Dimensionality Reduction: Principal Component Analysis (PCA), Linear Discriminant Analysis (LDA), t-SNE, etc.\n",
    "\n",
    "Model Selection: Grid Search, Randomized Search, cross-validation techniques.\n",
    "\n",
    "Preprocessing: Standardization, normalization, encoding categorical variables, handling missing values, feature extraction, and more."
   ]
  },
  {
   "cell_type": "markdown",
   "metadata": {},
   "source": [
    "#Example usage:\n",
    "\n",
    "A simple example demonstrating how to use scikit-learn for a classification task is using the **Iris dataset:**"
   ]
  },
  {
   "cell_type": "markdown",
   "metadata": {},
   "source": []
  },
  {
   "cell_type": "markdown",
   "metadata": {},
   "source": []
  },
  {
   "cell_type": "markdown",
   "metadata": {},
   "source": [
    "Splitting the dataset into training and testing sets is a fundamental step in the machine learning workflow. \n",
    "It involves dividing your dataset into two separate parts:\n",
    "\n",
    "Training Set: A subset of the data used to train the machine learning model. \n",
    "The model learns from this data, adjusting its parameters to minimize error or maximize accuracy.\n",
    "Testing Set: A subset of the data used to evaluate the performance of the trained model. \n",
    "This data is not used during the training process, allowing for an unbiased assessment of the model's ability to generalize to new, unseen data.\n",
    "\n",
    "Importance of Splitting the Dataset:\n",
    "\n",
    "Helps in evaluating how well the model generalizes to new data.\n",
    "\n",
    "Prevents overfitting, where the model performs well on training data but poorly on new data.\n"
   ]
  },
  {
   "cell_type": "markdown",
   "metadata": {
    "id": "Higt1r0YCHwK"
   },
   "source": [
    "# Let's start by loading the Libraries we need"
   ]
  },
  {
   "cell_type": "code",
   "execution_count": 2,
   "metadata": {
    "id": "ptwWC4NQCHwK"
   },
   "outputs": [
    {
     "name": "stdout",
     "output_type": "stream",
     "text": [
      "Ready to proceed!\n"
     ]
    }
   ],
   "source": [
    "#This should look familar to those of you who have done machine learning before\n",
    "#DecisionTreeClassifier: This is one of the classifiers we can use to classify\n",
    "import pandas as pd\n",
    "#import numpy as np\n",
    "\n",
    "#We'll draw a graph later on\n",
    "import matplotlib.pyplot as plt\n",
    "\n",
    "#Our 'Machine Learning pieces of things that we need to help us do this and that on the data'\n",
    "from sklearn.tree import DecisionTreeClassifier \n",
    "from sklearn.model_selection import train_test_split\n",
    "from sklearn.tree import export_text\n",
    "from sklearn import metrics\n",
    "from sklearn import tree\n",
    "\n",
    "print(\"Ready to proceed!\")"
   ]
  },
  {
   "cell_type": "markdown",
   "metadata": {
    "id": "BElFAURRCHwL"
   },
   "source": [
    "## Getting the data ready\n",
    "\n",
    "Now, let's load our data. \n",
    "\n",
    "Our decision tree can only work with numerical values, so we'll have to modify the columns of data that are text based. As stated preparing the data is usually the most difficult part of the process."
   ]
  },
  {
   "cell_type": "code",
   "execution_count": 3,
   "metadata": {
    "id": "rQGR7sy8CHwL"
   },
   "outputs": [
    {
     "data": {
      "text/html": [
       "<div>\n",
       "<style scoped>\n",
       "    .dataframe tbody tr th:only-of-type {\n",
       "        vertical-align: middle;\n",
       "    }\n",
       "\n",
       "    .dataframe tbody tr th {\n",
       "        vertical-align: top;\n",
       "    }\n",
       "\n",
       "    .dataframe thead th {\n",
       "        text-align: right;\n",
       "    }\n",
       "</style>\n",
       "<table border=\"1\" class=\"dataframe\">\n",
       "  <thead>\n",
       "    <tr style=\"text-align: right;\">\n",
       "      <th></th>\n",
       "      <th>Number</th>\n",
       "      <th>City</th>\n",
       "      <th>Gender</th>\n",
       "      <th>Age</th>\n",
       "      <th>Income</th>\n",
       "      <th>Illness</th>\n",
       "    </tr>\n",
       "  </thead>\n",
       "  <tbody>\n",
       "    <tr>\n",
       "      <th>0</th>\n",
       "      <td>1</td>\n",
       "      <td>Dallas</td>\n",
       "      <td>Male</td>\n",
       "      <td>41</td>\n",
       "      <td>40367.0</td>\n",
       "      <td>No</td>\n",
       "    </tr>\n",
       "    <tr>\n",
       "      <th>1</th>\n",
       "      <td>2</td>\n",
       "      <td>Dallas</td>\n",
       "      <td>Male</td>\n",
       "      <td>54</td>\n",
       "      <td>45084.0</td>\n",
       "      <td>No</td>\n",
       "    </tr>\n",
       "    <tr>\n",
       "      <th>2</th>\n",
       "      <td>3</td>\n",
       "      <td>Dallas</td>\n",
       "      <td>Male</td>\n",
       "      <td>42</td>\n",
       "      <td>52483.0</td>\n",
       "      <td>No</td>\n",
       "    </tr>\n",
       "    <tr>\n",
       "      <th>3</th>\n",
       "      <td>4</td>\n",
       "      <td>Dallas</td>\n",
       "      <td>Male</td>\n",
       "      <td>40</td>\n",
       "      <td>40941.0</td>\n",
       "      <td>No</td>\n",
       "    </tr>\n",
       "    <tr>\n",
       "      <th>4</th>\n",
       "      <td>5</td>\n",
       "      <td>Dallas</td>\n",
       "      <td>Male</td>\n",
       "      <td>46</td>\n",
       "      <td>50289.0</td>\n",
       "      <td>No</td>\n",
       "    </tr>\n",
       "  </tbody>\n",
       "</table>\n",
       "</div>"
      ],
      "text/plain": [
       "   Number    City Gender  Age   Income Illness\n",
       "0       1  Dallas   Male   41  40367.0      No\n",
       "1       2  Dallas   Male   54  45084.0      No\n",
       "2       3  Dallas   Male   42  52483.0      No\n",
       "3       4  Dallas   Male   40  40941.0      No\n",
       "4       5  Dallas   Male   46  50289.0      No"
      ]
     },
     "execution_count": 3,
     "metadata": {},
     "output_type": "execute_result"
    }
   ],
   "source": [
    "#We will use toy data set. \n",
    "data = pd.read_csv(\"toy_dataset.csv\") #Load data\n",
    "data.head() # Show first few rows of data"
   ]
  },
  {
   "cell_type": "markdown",
   "metadata": {},
   "source": [
    "We observe that our target variable is Illness i.e. we want to be able to predict whether there is <b>illness or not</b>.  Which ones are our features?"
   ]
  },
  {
   "cell_type": "markdown",
   "metadata": {},
   "source": [
    "# Data Cleaning Process.\n",
    "Data cleaning, a key component of data preprocessing, involves removing or correcting irrelevant, incomplete, or inaccurate data. \n",
    "This process is essential because the quality of the data used in machine learning significantly impacts the performance of the models."
   ]
  },
  {
   "cell_type": "markdown",
   "metadata": {},
   "source": [
    "Of course, we may say Number, City, Gender and Income. But Number is just used for counting or identification of an individula an therefore it is not a good feature to help us predict our target variable. Let's drop this column."
   ]
  },
  {
   "cell_type": "code",
   "execution_count": 77,
   "metadata": {},
   "outputs": [
    {
     "data": {
      "text/html": [
       "<div>\n",
       "<style scoped>\n",
       "    .dataframe tbody tr th:only-of-type {\n",
       "        vertical-align: middle;\n",
       "    }\n",
       "\n",
       "    .dataframe tbody tr th {\n",
       "        vertical-align: top;\n",
       "    }\n",
       "\n",
       "    .dataframe thead th {\n",
       "        text-align: right;\n",
       "    }\n",
       "</style>\n",
       "<table border=\"1\" class=\"dataframe\">\n",
       "  <thead>\n",
       "    <tr style=\"text-align: right;\">\n",
       "      <th></th>\n",
       "      <th>City</th>\n",
       "      <th>Gender</th>\n",
       "      <th>Age</th>\n",
       "      <th>Income</th>\n",
       "      <th>Illness</th>\n",
       "    </tr>\n",
       "  </thead>\n",
       "  <tbody>\n",
       "    <tr>\n",
       "      <th>0</th>\n",
       "      <td>Dallas</td>\n",
       "      <td>Male</td>\n",
       "      <td>41</td>\n",
       "      <td>40367.0</td>\n",
       "      <td>No</td>\n",
       "    </tr>\n",
       "    <tr>\n",
       "      <th>1</th>\n",
       "      <td>Dallas</td>\n",
       "      <td>Male</td>\n",
       "      <td>54</td>\n",
       "      <td>45084.0</td>\n",
       "      <td>No</td>\n",
       "    </tr>\n",
       "    <tr>\n",
       "      <th>2</th>\n",
       "      <td>Dallas</td>\n",
       "      <td>Male</td>\n",
       "      <td>42</td>\n",
       "      <td>52483.0</td>\n",
       "      <td>No</td>\n",
       "    </tr>\n",
       "    <tr>\n",
       "      <th>3</th>\n",
       "      <td>Dallas</td>\n",
       "      <td>Male</td>\n",
       "      <td>40</td>\n",
       "      <td>40941.0</td>\n",
       "      <td>No</td>\n",
       "    </tr>\n",
       "    <tr>\n",
       "      <th>4</th>\n",
       "      <td>Dallas</td>\n",
       "      <td>Male</td>\n",
       "      <td>46</td>\n",
       "      <td>50289.0</td>\n",
       "      <td>No</td>\n",
       "    </tr>\n",
       "    <tr>\n",
       "      <th>...</th>\n",
       "      <td>...</td>\n",
       "      <td>...</td>\n",
       "      <td>...</td>\n",
       "      <td>...</td>\n",
       "      <td>...</td>\n",
       "    </tr>\n",
       "    <tr>\n",
       "      <th>149995</th>\n",
       "      <td>Austin</td>\n",
       "      <td>Male</td>\n",
       "      <td>48</td>\n",
       "      <td>93669.0</td>\n",
       "      <td>No</td>\n",
       "    </tr>\n",
       "    <tr>\n",
       "      <th>149996</th>\n",
       "      <td>Austin</td>\n",
       "      <td>Male</td>\n",
       "      <td>25</td>\n",
       "      <td>96748.0</td>\n",
       "      <td>No</td>\n",
       "    </tr>\n",
       "    <tr>\n",
       "      <th>149997</th>\n",
       "      <td>Austin</td>\n",
       "      <td>Male</td>\n",
       "      <td>26</td>\n",
       "      <td>111885.0</td>\n",
       "      <td>No</td>\n",
       "    </tr>\n",
       "    <tr>\n",
       "      <th>149998</th>\n",
       "      <td>Austin</td>\n",
       "      <td>Male</td>\n",
       "      <td>25</td>\n",
       "      <td>111878.0</td>\n",
       "      <td>No</td>\n",
       "    </tr>\n",
       "    <tr>\n",
       "      <th>149999</th>\n",
       "      <td>Austin</td>\n",
       "      <td>Female</td>\n",
       "      <td>37</td>\n",
       "      <td>87251.0</td>\n",
       "      <td>No</td>\n",
       "    </tr>\n",
       "  </tbody>\n",
       "</table>\n",
       "<p>150000 rows × 5 columns</p>\n",
       "</div>"
      ],
      "text/plain": [
       "          City  Gender  Age    Income Illness\n",
       "0       Dallas    Male   41   40367.0      No\n",
       "1       Dallas    Male   54   45084.0      No\n",
       "2       Dallas    Male   42   52483.0      No\n",
       "3       Dallas    Male   40   40941.0      No\n",
       "4       Dallas    Male   46   50289.0      No\n",
       "...        ...     ...  ...       ...     ...\n",
       "149995  Austin    Male   48   93669.0      No\n",
       "149996  Austin    Male   25   96748.0      No\n",
       "149997  Austin    Male   26  111885.0      No\n",
       "149998  Austin    Male   25  111878.0      No\n",
       "149999  Austin  Female   37   87251.0      No\n",
       "\n",
       "[150000 rows x 5 columns]"
      ]
     },
     "execution_count": 77,
     "metadata": {},
     "output_type": "execute_result"
    }
   ],
   "source": [
    "data.drop(columns=['Number']) #Remove column Number because it is not all that important"
   ]
  },
  {
   "cell_type": "code",
   "execution_count": 79,
   "metadata": {},
   "outputs": [
    {
     "data": {
      "text/html": [
       "<div>\n",
       "<style scoped>\n",
       "    .dataframe tbody tr th:only-of-type {\n",
       "        vertical-align: middle;\n",
       "    }\n",
       "\n",
       "    .dataframe tbody tr th {\n",
       "        vertical-align: top;\n",
       "    }\n",
       "\n",
       "    .dataframe thead th {\n",
       "        text-align: right;\n",
       "    }\n",
       "</style>\n",
       "<table border=\"1\" class=\"dataframe\">\n",
       "  <thead>\n",
       "    <tr style=\"text-align: right;\">\n",
       "      <th></th>\n",
       "      <th>Number</th>\n",
       "      <th>City</th>\n",
       "      <th>Gender</th>\n",
       "      <th>Age</th>\n",
       "      <th>Income</th>\n",
       "      <th>Illness</th>\n",
       "    </tr>\n",
       "  </thead>\n",
       "  <tbody>\n",
       "    <tr>\n",
       "      <th>0</th>\n",
       "      <td>1</td>\n",
       "      <td>Dallas</td>\n",
       "      <td>Male</td>\n",
       "      <td>41</td>\n",
       "      <td>40367.0</td>\n",
       "      <td>No</td>\n",
       "    </tr>\n",
       "    <tr>\n",
       "      <th>1</th>\n",
       "      <td>2</td>\n",
       "      <td>Dallas</td>\n",
       "      <td>Male</td>\n",
       "      <td>54</td>\n",
       "      <td>45084.0</td>\n",
       "      <td>No</td>\n",
       "    </tr>\n",
       "    <tr>\n",
       "      <th>2</th>\n",
       "      <td>3</td>\n",
       "      <td>Dallas</td>\n",
       "      <td>Male</td>\n",
       "      <td>42</td>\n",
       "      <td>52483.0</td>\n",
       "      <td>No</td>\n",
       "    </tr>\n",
       "    <tr>\n",
       "      <th>3</th>\n",
       "      <td>4</td>\n",
       "      <td>Dallas</td>\n",
       "      <td>Male</td>\n",
       "      <td>40</td>\n",
       "      <td>40941.0</td>\n",
       "      <td>No</td>\n",
       "    </tr>\n",
       "    <tr>\n",
       "      <th>4</th>\n",
       "      <td>5</td>\n",
       "      <td>Dallas</td>\n",
       "      <td>Male</td>\n",
       "      <td>46</td>\n",
       "      <td>50289.0</td>\n",
       "      <td>No</td>\n",
       "    </tr>\n",
       "  </tbody>\n",
       "</table>\n",
       "</div>"
      ],
      "text/plain": [
       "   Number    City Gender  Age   Income Illness\n",
       "0       1  Dallas   Male   41  40367.0      No\n",
       "1       2  Dallas   Male   54  45084.0      No\n",
       "2       3  Dallas   Male   42  52483.0      No\n",
       "3       4  Dallas   Male   40  40941.0      No\n",
       "4       5  Dallas   Male   46  50289.0      No"
      ]
     },
     "execution_count": 79,
     "metadata": {},
     "output_type": "execute_result"
    }
   ],
   "source": [
    "#let's us see if the column has been removed\n",
    "data.head()"
   ]
  },
  {
   "cell_type": "code",
   "execution_count": 81,
   "metadata": {},
   "outputs": [
    {
     "data": {
      "text/html": [
       "<div>\n",
       "<style scoped>\n",
       "    .dataframe tbody tr th:only-of-type {\n",
       "        vertical-align: middle;\n",
       "    }\n",
       "\n",
       "    .dataframe tbody tr th {\n",
       "        vertical-align: top;\n",
       "    }\n",
       "\n",
       "    .dataframe thead th {\n",
       "        text-align: right;\n",
       "    }\n",
       "</style>\n",
       "<table border=\"1\" class=\"dataframe\">\n",
       "  <thead>\n",
       "    <tr style=\"text-align: right;\">\n",
       "      <th></th>\n",
       "      <th>City</th>\n",
       "      <th>Gender</th>\n",
       "      <th>Age</th>\n",
       "      <th>Income</th>\n",
       "      <th>Illness</th>\n",
       "    </tr>\n",
       "  </thead>\n",
       "  <tbody>\n",
       "    <tr>\n",
       "      <th>0</th>\n",
       "      <td>Dallas</td>\n",
       "      <td>Male</td>\n",
       "      <td>41</td>\n",
       "      <td>40367.0</td>\n",
       "      <td>No</td>\n",
       "    </tr>\n",
       "    <tr>\n",
       "      <th>1</th>\n",
       "      <td>Dallas</td>\n",
       "      <td>Male</td>\n",
       "      <td>54</td>\n",
       "      <td>45084.0</td>\n",
       "      <td>No</td>\n",
       "    </tr>\n",
       "    <tr>\n",
       "      <th>2</th>\n",
       "      <td>Dallas</td>\n",
       "      <td>Male</td>\n",
       "      <td>42</td>\n",
       "      <td>52483.0</td>\n",
       "      <td>No</td>\n",
       "    </tr>\n",
       "    <tr>\n",
       "      <th>3</th>\n",
       "      <td>Dallas</td>\n",
       "      <td>Male</td>\n",
       "      <td>40</td>\n",
       "      <td>40941.0</td>\n",
       "      <td>No</td>\n",
       "    </tr>\n",
       "    <tr>\n",
       "      <th>4</th>\n",
       "      <td>Dallas</td>\n",
       "      <td>Male</td>\n",
       "      <td>46</td>\n",
       "      <td>50289.0</td>\n",
       "      <td>No</td>\n",
       "    </tr>\n",
       "  </tbody>\n",
       "</table>\n",
       "</div>"
      ],
      "text/plain": [
       "     City Gender  Age   Income Illness\n",
       "0  Dallas   Male   41  40367.0      No\n",
       "1  Dallas   Male   54  45084.0      No\n",
       "2  Dallas   Male   42  52483.0      No\n",
       "3  Dallas   Male   40  40941.0      No\n",
       "4  Dallas   Male   46  50289.0      No"
      ]
     },
     "execution_count": 81,
     "metadata": {},
     "output_type": "execute_result"
    }
   ],
   "source": [
    "#Clearly, it is still visible. Now we drop it inplace which means removing permanently\n",
    "#Use .drop() when you want to manipulate data without modifying the original DataFrame or Series explicitly.\n",
    "#Use .drop(inplace=True) when you want to modify the original DataFrame or Series directly\n",
    "\n",
    "data.drop(columns=['Number'], inplace=True)\n",
    "\n",
    "#Do we still have it?\n",
    "data.head()"
   ]
  },
  {
   "cell_type": "code",
   "execution_count": 4,
   "metadata": {},
   "outputs": [
    {
     "name": "stdout",
     "output_type": "stream",
     "text": [
      "['Dallas' 'New York City' 'Los Angeles' 'Mountain View' 'Boston'\n",
      " 'Washington D.C.' 'San Diego' 'Austin']\n",
      "8\n"
     ]
    }
   ],
   "source": [
    "#How many cities do we have? Using unique we show all cities available\n",
    "print(data['City'].unique())\n",
    "print(data['City'].nunique())"
   ]
  },
  {
   "cell_type": "markdown",
   "metadata": {
    "id": "PIDXPzmeCHwL"
   },
   "source": [
    "Now, we just need to represent it all as numbers instead of text labels because our models expect numbers only. So that means we need to change the columns:\n",
    "\n",
    "\n",
    "- `Illness` - instead of a No / Yes label we'll use 0 and 1 instead\n",
    "- `City` - this will break out the column into 8 different columns\n",
    "- `Gender` - this will break out the column into 2 different columns\n",
    "\n",
    "\n"
   ]
  },
  {
   "cell_type": "code",
   "execution_count": 86,
   "metadata": {
    "id": "4eFeOgWWCHwL"
   },
   "outputs": [
    {
     "data": {
      "text/html": [
       "<div>\n",
       "<style scoped>\n",
       "    .dataframe tbody tr th:only-of-type {\n",
       "        vertical-align: middle;\n",
       "    }\n",
       "\n",
       "    .dataframe tbody tr th {\n",
       "        vertical-align: top;\n",
       "    }\n",
       "\n",
       "    .dataframe thead th {\n",
       "        text-align: right;\n",
       "    }\n",
       "</style>\n",
       "<table border=\"1\" class=\"dataframe\">\n",
       "  <thead>\n",
       "    <tr style=\"text-align: right;\">\n",
       "      <th></th>\n",
       "      <th>Age</th>\n",
       "      <th>Income</th>\n",
       "      <th>Illness</th>\n",
       "      <th>City_Austin</th>\n",
       "      <th>City_Boston</th>\n",
       "      <th>City_Dallas</th>\n",
       "      <th>City_Los Angeles</th>\n",
       "      <th>City_Mountain View</th>\n",
       "      <th>City_New York City</th>\n",
       "      <th>City_San Diego</th>\n",
       "      <th>City_Washington D.C.</th>\n",
       "      <th>Gender_Female</th>\n",
       "      <th>Gender_Male</th>\n",
       "    </tr>\n",
       "  </thead>\n",
       "  <tbody>\n",
       "    <tr>\n",
       "      <th>0</th>\n",
       "      <td>41</td>\n",
       "      <td>40367.0</td>\n",
       "      <td>0</td>\n",
       "      <td>0</td>\n",
       "      <td>0</td>\n",
       "      <td>1</td>\n",
       "      <td>0</td>\n",
       "      <td>0</td>\n",
       "      <td>0</td>\n",
       "      <td>0</td>\n",
       "      <td>0</td>\n",
       "      <td>0</td>\n",
       "      <td>1</td>\n",
       "    </tr>\n",
       "    <tr>\n",
       "      <th>1</th>\n",
       "      <td>54</td>\n",
       "      <td>45084.0</td>\n",
       "      <td>0</td>\n",
       "      <td>0</td>\n",
       "      <td>0</td>\n",
       "      <td>1</td>\n",
       "      <td>0</td>\n",
       "      <td>0</td>\n",
       "      <td>0</td>\n",
       "      <td>0</td>\n",
       "      <td>0</td>\n",
       "      <td>0</td>\n",
       "      <td>1</td>\n",
       "    </tr>\n",
       "    <tr>\n",
       "      <th>2</th>\n",
       "      <td>42</td>\n",
       "      <td>52483.0</td>\n",
       "      <td>0</td>\n",
       "      <td>0</td>\n",
       "      <td>0</td>\n",
       "      <td>1</td>\n",
       "      <td>0</td>\n",
       "      <td>0</td>\n",
       "      <td>0</td>\n",
       "      <td>0</td>\n",
       "      <td>0</td>\n",
       "      <td>0</td>\n",
       "      <td>1</td>\n",
       "    </tr>\n",
       "    <tr>\n",
       "      <th>3</th>\n",
       "      <td>40</td>\n",
       "      <td>40941.0</td>\n",
       "      <td>0</td>\n",
       "      <td>0</td>\n",
       "      <td>0</td>\n",
       "      <td>1</td>\n",
       "      <td>0</td>\n",
       "      <td>0</td>\n",
       "      <td>0</td>\n",
       "      <td>0</td>\n",
       "      <td>0</td>\n",
       "      <td>0</td>\n",
       "      <td>1</td>\n",
       "    </tr>\n",
       "    <tr>\n",
       "      <th>4</th>\n",
       "      <td>46</td>\n",
       "      <td>50289.0</td>\n",
       "      <td>0</td>\n",
       "      <td>0</td>\n",
       "      <td>0</td>\n",
       "      <td>1</td>\n",
       "      <td>0</td>\n",
       "      <td>0</td>\n",
       "      <td>0</td>\n",
       "      <td>0</td>\n",
       "      <td>0</td>\n",
       "      <td>0</td>\n",
       "      <td>1</td>\n",
       "    </tr>\n",
       "  </tbody>\n",
       "</table>\n",
       "</div>"
      ],
      "text/plain": [
       "   Age   Income  Illness  City_Austin  City_Boston  City_Dallas  \\\n",
       "0   41  40367.0        0            0            0            1   \n",
       "1   54  45084.0        0            0            0            1   \n",
       "2   42  52483.0        0            0            0            1   \n",
       "3   40  40941.0        0            0            0            1   \n",
       "4   46  50289.0        0            0            0            1   \n",
       "\n",
       "   City_Los Angeles  City_Mountain View  City_New York City  City_San Diego  \\\n",
       "0                 0                   0                   0               0   \n",
       "1                 0                   0                   0               0   \n",
       "2                 0                   0                   0               0   \n",
       "3                 0                   0                   0               0   \n",
       "4                 0                   0                   0               0   \n",
       "\n",
       "   City_Washington D.C.  Gender_Female  Gender_Male  \n",
       "0                     0              0            1  \n",
       "1                     0              0            1  \n",
       "2                     0              0            1  \n",
       "3                     0              0            1  \n",
       "4                     0              0            1  "
      ]
     },
     "execution_count": 86,
     "metadata": {},
     "output_type": "execute_result"
    }
   ],
   "source": [
    "#Instead of yes/no we'll use a 0 or 1\n",
    "#We use the value '1' to make our analysis later on less ambiguous\n",
    "data[\"Illness\"].replace({\"No\":0, \"Yes\":1},inplace=True)\n",
    "\n",
    "#We change categorical values into numeric ones using `dummies`\n",
    "data = pd.get_dummies(data, columns=['City','Gender'], dtype= int) #by default datatype is boolean\n",
    "data.head(5)"
   ]
  },
  {
   "cell_type": "code",
   "execution_count": 88,
   "metadata": {
    "id": "cMC4c0UjCHwM"
   },
   "outputs": [
    {
     "data": {
      "text/html": [
       "<div>\n",
       "<style scoped>\n",
       "    .dataframe tbody tr th:only-of-type {\n",
       "        vertical-align: middle;\n",
       "    }\n",
       "\n",
       "    .dataframe tbody tr th {\n",
       "        vertical-align: top;\n",
       "    }\n",
       "\n",
       "    .dataframe thead th {\n",
       "        text-align: right;\n",
       "    }\n",
       "</style>\n",
       "<table border=\"1\" class=\"dataframe\">\n",
       "  <thead>\n",
       "    <tr style=\"text-align: right;\">\n",
       "      <th></th>\n",
       "      <th>Age</th>\n",
       "      <th>Income</th>\n",
       "      <th>Illness</th>\n",
       "      <th>City_Austin</th>\n",
       "      <th>City_Boston</th>\n",
       "      <th>City_Dallas</th>\n",
       "      <th>City_Los Angeles</th>\n",
       "      <th>City_Mountain View</th>\n",
       "      <th>City_New York City</th>\n",
       "      <th>City_San Diego</th>\n",
       "      <th>City_Washington D.C.</th>\n",
       "      <th>Gender_Female</th>\n",
       "      <th>Gender_Male</th>\n",
       "    </tr>\n",
       "  </thead>\n",
       "  <tbody>\n",
       "    <tr>\n",
       "      <th>149990</th>\n",
       "      <td>26</td>\n",
       "      <td>82163.0</td>\n",
       "      <td>0</td>\n",
       "      <td>1</td>\n",
       "      <td>0</td>\n",
       "      <td>0</td>\n",
       "      <td>0</td>\n",
       "      <td>0</td>\n",
       "      <td>0</td>\n",
       "      <td>0</td>\n",
       "      <td>0</td>\n",
       "      <td>1</td>\n",
       "      <td>0</td>\n",
       "    </tr>\n",
       "    <tr>\n",
       "      <th>149991</th>\n",
       "      <td>51</td>\n",
       "      <td>97510.0</td>\n",
       "      <td>0</td>\n",
       "      <td>1</td>\n",
       "      <td>0</td>\n",
       "      <td>0</td>\n",
       "      <td>0</td>\n",
       "      <td>0</td>\n",
       "      <td>0</td>\n",
       "      <td>0</td>\n",
       "      <td>0</td>\n",
       "      <td>0</td>\n",
       "      <td>1</td>\n",
       "    </tr>\n",
       "    <tr>\n",
       "      <th>149992</th>\n",
       "      <td>37</td>\n",
       "      <td>88408.0</td>\n",
       "      <td>0</td>\n",
       "      <td>1</td>\n",
       "      <td>0</td>\n",
       "      <td>0</td>\n",
       "      <td>0</td>\n",
       "      <td>0</td>\n",
       "      <td>0</td>\n",
       "      <td>0</td>\n",
       "      <td>0</td>\n",
       "      <td>0</td>\n",
       "      <td>1</td>\n",
       "    </tr>\n",
       "    <tr>\n",
       "      <th>149993</th>\n",
       "      <td>64</td>\n",
       "      <td>89906.0</td>\n",
       "      <td>0</td>\n",
       "      <td>1</td>\n",
       "      <td>0</td>\n",
       "      <td>0</td>\n",
       "      <td>0</td>\n",
       "      <td>0</td>\n",
       "      <td>0</td>\n",
       "      <td>0</td>\n",
       "      <td>0</td>\n",
       "      <td>0</td>\n",
       "      <td>1</td>\n",
       "    </tr>\n",
       "    <tr>\n",
       "      <th>149994</th>\n",
       "      <td>37</td>\n",
       "      <td>106097.0</td>\n",
       "      <td>0</td>\n",
       "      <td>1</td>\n",
       "      <td>0</td>\n",
       "      <td>0</td>\n",
       "      <td>0</td>\n",
       "      <td>0</td>\n",
       "      <td>0</td>\n",
       "      <td>0</td>\n",
       "      <td>0</td>\n",
       "      <td>1</td>\n",
       "      <td>0</td>\n",
       "    </tr>\n",
       "    <tr>\n",
       "      <th>149995</th>\n",
       "      <td>48</td>\n",
       "      <td>93669.0</td>\n",
       "      <td>0</td>\n",
       "      <td>1</td>\n",
       "      <td>0</td>\n",
       "      <td>0</td>\n",
       "      <td>0</td>\n",
       "      <td>0</td>\n",
       "      <td>0</td>\n",
       "      <td>0</td>\n",
       "      <td>0</td>\n",
       "      <td>0</td>\n",
       "      <td>1</td>\n",
       "    </tr>\n",
       "    <tr>\n",
       "      <th>149996</th>\n",
       "      <td>25</td>\n",
       "      <td>96748.0</td>\n",
       "      <td>0</td>\n",
       "      <td>1</td>\n",
       "      <td>0</td>\n",
       "      <td>0</td>\n",
       "      <td>0</td>\n",
       "      <td>0</td>\n",
       "      <td>0</td>\n",
       "      <td>0</td>\n",
       "      <td>0</td>\n",
       "      <td>0</td>\n",
       "      <td>1</td>\n",
       "    </tr>\n",
       "    <tr>\n",
       "      <th>149997</th>\n",
       "      <td>26</td>\n",
       "      <td>111885.0</td>\n",
       "      <td>0</td>\n",
       "      <td>1</td>\n",
       "      <td>0</td>\n",
       "      <td>0</td>\n",
       "      <td>0</td>\n",
       "      <td>0</td>\n",
       "      <td>0</td>\n",
       "      <td>0</td>\n",
       "      <td>0</td>\n",
       "      <td>0</td>\n",
       "      <td>1</td>\n",
       "    </tr>\n",
       "    <tr>\n",
       "      <th>149998</th>\n",
       "      <td>25</td>\n",
       "      <td>111878.0</td>\n",
       "      <td>0</td>\n",
       "      <td>1</td>\n",
       "      <td>0</td>\n",
       "      <td>0</td>\n",
       "      <td>0</td>\n",
       "      <td>0</td>\n",
       "      <td>0</td>\n",
       "      <td>0</td>\n",
       "      <td>0</td>\n",
       "      <td>0</td>\n",
       "      <td>1</td>\n",
       "    </tr>\n",
       "    <tr>\n",
       "      <th>149999</th>\n",
       "      <td>37</td>\n",
       "      <td>87251.0</td>\n",
       "      <td>0</td>\n",
       "      <td>1</td>\n",
       "      <td>0</td>\n",
       "      <td>0</td>\n",
       "      <td>0</td>\n",
       "      <td>0</td>\n",
       "      <td>0</td>\n",
       "      <td>0</td>\n",
       "      <td>0</td>\n",
       "      <td>1</td>\n",
       "      <td>0</td>\n",
       "    </tr>\n",
       "  </tbody>\n",
       "</table>\n",
       "</div>"
      ],
      "text/plain": [
       "        Age    Income  Illness  City_Austin  City_Boston  City_Dallas  \\\n",
       "149990   26   82163.0        0            1            0            0   \n",
       "149991   51   97510.0        0            1            0            0   \n",
       "149992   37   88408.0        0            1            0            0   \n",
       "149993   64   89906.0        0            1            0            0   \n",
       "149994   37  106097.0        0            1            0            0   \n",
       "149995   48   93669.0        0            1            0            0   \n",
       "149996   25   96748.0        0            1            0            0   \n",
       "149997   26  111885.0        0            1            0            0   \n",
       "149998   25  111878.0        0            1            0            0   \n",
       "149999   37   87251.0        0            1            0            0   \n",
       "\n",
       "        City_Los Angeles  City_Mountain View  City_New York City  \\\n",
       "149990                 0                   0                   0   \n",
       "149991                 0                   0                   0   \n",
       "149992                 0                   0                   0   \n",
       "149993                 0                   0                   0   \n",
       "149994                 0                   0                   0   \n",
       "149995                 0                   0                   0   \n",
       "149996                 0                   0                   0   \n",
       "149997                 0                   0                   0   \n",
       "149998                 0                   0                   0   \n",
       "149999                 0                   0                   0   \n",
       "\n",
       "        City_San Diego  City_Washington D.C.  Gender_Female  Gender_Male  \n",
       "149990               0                     0              1            0  \n",
       "149991               0                     0              0            1  \n",
       "149992               0                     0              0            1  \n",
       "149993               0                     0              0            1  \n",
       "149994               0                     0              1            0  \n",
       "149995               0                     0              0            1  \n",
       "149996               0                     0              0            1  \n",
       "149997               0                     0              0            1  \n",
       "149998               0                     0              0            1  \n",
       "149999               0                     0              1            0  "
      ]
     },
     "execution_count": 88,
     "metadata": {},
     "output_type": "execute_result"
    }
   ],
   "source": [
    "#This example shows the last 10 entries in the dataframe\n",
    "data.tail(10)"
   ]
  },
  {
   "cell_type": "markdown",
   "metadata": {
    "id": "s87Ehft6CHwM"
   },
   "source": [
    " ## Now we are done with the most difficult part of the process, understanding the data and getting it ready."
   ]
  },
  {
   "cell_type": "markdown",
   "metadata": {
    "id": "F2UqlfpQCHwM"
   },
   "source": [
    "## Building and Running the Model"
   ]
  },
  {
   "cell_type": "markdown",
   "metadata": {
    "id": "H-7zO_WPCHwM"
   },
   "source": [
    "We now have our data cleaned up, and represented in a way that Scikit will be able to analyze. To be honest the most difficult part of the process is done.\n",
    "\n",
    "We now need to split our columns in two types:\n",
    "- **features** represent the data we use to build our guess\n",
    "- **target variable** the thing our model hopes to guess"
   ]
  },
  {
   "cell_type": "code",
   "execution_count": 5,
   "metadata": {},
   "outputs": [
    {
     "data": {
      "text/plain": [
       "Index(['Number', 'City', 'Gender', 'Age', 'Income', 'Illness'], dtype='object')"
      ]
     },
     "execution_count": 5,
     "metadata": {},
     "output_type": "execute_result"
    }
   ],
   "source": [
    "data.columns"
   ]
  },
  {
   "cell_type": "code",
   "execution_count": 6,
   "metadata": {
    "id": "DiRdfZXYCHwM"
   },
   "outputs": [
    {
     "ename": "KeyError",
     "evalue": "\"['City_Austin', 'City_Boston', 'City_Dallas', 'City_Los Angeles', 'City_Mountain View', 'City_New York City', 'City_San Diego', 'City_Washington D.C.', 'Gender_Female', 'Gender_Male'] not in index\"",
     "output_type": "error",
     "traceback": [
      "\u001b[1;31m---------------------------------------------------------------------------\u001b[0m",
      "\u001b[1;31mKeyError\u001b[0m                                  Traceback (most recent call last)",
      "Cell \u001b[1;32mIn[6], line 7\u001b[0m\n\u001b[0;32m      1\u001b[0m \u001b[38;5;66;03m#all of the following columns are features, we'll make a list of their names\u001b[39;00m\n\u001b[0;32m      2\u001b[0m features \u001b[38;5;241m=\u001b[39m [\u001b[38;5;124m'\u001b[39m\u001b[38;5;124mAge\u001b[39m\u001b[38;5;124m'\u001b[39m, \u001b[38;5;124m'\u001b[39m\u001b[38;5;124mIncome\u001b[39m\u001b[38;5;124m'\u001b[39m, \u001b[38;5;124m'\u001b[39m\u001b[38;5;124mCity_Austin\u001b[39m\u001b[38;5;124m'\u001b[39m, \u001b[38;5;124m'\u001b[39m\u001b[38;5;124mCity_Boston\u001b[39m\u001b[38;5;124m'\u001b[39m, \u001b[38;5;124m'\u001b[39m\u001b[38;5;124mCity_Dallas\u001b[39m\u001b[38;5;124m'\u001b[39m,\n\u001b[0;32m      3\u001b[0m        \u001b[38;5;124m'\u001b[39m\u001b[38;5;124mCity_Los Angeles\u001b[39m\u001b[38;5;124m'\u001b[39m, \u001b[38;5;124m'\u001b[39m\u001b[38;5;124mCity_Mountain View\u001b[39m\u001b[38;5;124m'\u001b[39m, \u001b[38;5;124m'\u001b[39m\u001b[38;5;124mCity_New York City\u001b[39m\u001b[38;5;124m'\u001b[39m,\n\u001b[0;32m      4\u001b[0m        \u001b[38;5;124m'\u001b[39m\u001b[38;5;124mCity_San Diego\u001b[39m\u001b[38;5;124m'\u001b[39m, \u001b[38;5;124m'\u001b[39m\u001b[38;5;124mCity_Washington D.C.\u001b[39m\u001b[38;5;124m'\u001b[39m, \u001b[38;5;124m'\u001b[39m\u001b[38;5;124mGender_Female\u001b[39m\u001b[38;5;124m'\u001b[39m,\n\u001b[0;32m      5\u001b[0m        \u001b[38;5;124m'\u001b[39m\u001b[38;5;124mGender_Male\u001b[39m\u001b[38;5;124m'\u001b[39m]\n\u001b[1;32m----> 7\u001b[0m X \u001b[38;5;241m=\u001b[39m data[features]\n\u001b[0;32m      9\u001b[0m \u001b[38;5;66;03m#We want to target the ill column\u001b[39;00m\n\u001b[0;32m     10\u001b[0m y \u001b[38;5;241m=\u001b[39m data\u001b[38;5;241m.\u001b[39mIllness\n",
      "File \u001b[1;32mE:\\ANACONDA\\Lib\\site-packages\\pandas\\core\\frame.py:3767\u001b[0m, in \u001b[0;36mDataFrame.__getitem__\u001b[1;34m(self, key)\u001b[0m\n\u001b[0;32m   3765\u001b[0m     \u001b[38;5;28;01mif\u001b[39;00m is_iterator(key):\n\u001b[0;32m   3766\u001b[0m         key \u001b[38;5;241m=\u001b[39m \u001b[38;5;28mlist\u001b[39m(key)\n\u001b[1;32m-> 3767\u001b[0m     indexer \u001b[38;5;241m=\u001b[39m \u001b[38;5;28mself\u001b[39m\u001b[38;5;241m.\u001b[39mcolumns\u001b[38;5;241m.\u001b[39m_get_indexer_strict(key, \u001b[38;5;124m\"\u001b[39m\u001b[38;5;124mcolumns\u001b[39m\u001b[38;5;124m\"\u001b[39m)[\u001b[38;5;241m1\u001b[39m]\n\u001b[0;32m   3769\u001b[0m \u001b[38;5;66;03m# take() does not accept boolean indexers\u001b[39;00m\n\u001b[0;32m   3770\u001b[0m \u001b[38;5;28;01mif\u001b[39;00m \u001b[38;5;28mgetattr\u001b[39m(indexer, \u001b[38;5;124m\"\u001b[39m\u001b[38;5;124mdtype\u001b[39m\u001b[38;5;124m\"\u001b[39m, \u001b[38;5;28;01mNone\u001b[39;00m) \u001b[38;5;241m==\u001b[39m \u001b[38;5;28mbool\u001b[39m:\n",
      "File \u001b[1;32mE:\\ANACONDA\\Lib\\site-packages\\pandas\\core\\indexes\\base.py:5877\u001b[0m, in \u001b[0;36mIndex._get_indexer_strict\u001b[1;34m(self, key, axis_name)\u001b[0m\n\u001b[0;32m   5874\u001b[0m \u001b[38;5;28;01melse\u001b[39;00m:\n\u001b[0;32m   5875\u001b[0m     keyarr, indexer, new_indexer \u001b[38;5;241m=\u001b[39m \u001b[38;5;28mself\u001b[39m\u001b[38;5;241m.\u001b[39m_reindex_non_unique(keyarr)\n\u001b[1;32m-> 5877\u001b[0m \u001b[38;5;28mself\u001b[39m\u001b[38;5;241m.\u001b[39m_raise_if_missing(keyarr, indexer, axis_name)\n\u001b[0;32m   5879\u001b[0m keyarr \u001b[38;5;241m=\u001b[39m \u001b[38;5;28mself\u001b[39m\u001b[38;5;241m.\u001b[39mtake(indexer)\n\u001b[0;32m   5880\u001b[0m \u001b[38;5;28;01mif\u001b[39;00m \u001b[38;5;28misinstance\u001b[39m(key, Index):\n\u001b[0;32m   5881\u001b[0m     \u001b[38;5;66;03m# GH 42790 - Preserve name from an Index\u001b[39;00m\n",
      "File \u001b[1;32mE:\\ANACONDA\\Lib\\site-packages\\pandas\\core\\indexes\\base.py:5941\u001b[0m, in \u001b[0;36mIndex._raise_if_missing\u001b[1;34m(self, key, indexer, axis_name)\u001b[0m\n\u001b[0;32m   5938\u001b[0m     \u001b[38;5;28;01mraise\u001b[39;00m \u001b[38;5;167;01mKeyError\u001b[39;00m(\u001b[38;5;124mf\u001b[39m\u001b[38;5;124m\"\u001b[39m\u001b[38;5;124mNone of [\u001b[39m\u001b[38;5;132;01m{\u001b[39;00mkey\u001b[38;5;132;01m}\u001b[39;00m\u001b[38;5;124m] are in the [\u001b[39m\u001b[38;5;132;01m{\u001b[39;00maxis_name\u001b[38;5;132;01m}\u001b[39;00m\u001b[38;5;124m]\u001b[39m\u001b[38;5;124m\"\u001b[39m)\n\u001b[0;32m   5940\u001b[0m not_found \u001b[38;5;241m=\u001b[39m \u001b[38;5;28mlist\u001b[39m(ensure_index(key)[missing_mask\u001b[38;5;241m.\u001b[39mnonzero()[\u001b[38;5;241m0\u001b[39m]]\u001b[38;5;241m.\u001b[39munique())\n\u001b[1;32m-> 5941\u001b[0m \u001b[38;5;28;01mraise\u001b[39;00m \u001b[38;5;167;01mKeyError\u001b[39;00m(\u001b[38;5;124mf\u001b[39m\u001b[38;5;124m\"\u001b[39m\u001b[38;5;132;01m{\u001b[39;00mnot_found\u001b[38;5;132;01m}\u001b[39;00m\u001b[38;5;124m not in index\u001b[39m\u001b[38;5;124m\"\u001b[39m)\n",
      "\u001b[1;31mKeyError\u001b[0m: \"['City_Austin', 'City_Boston', 'City_Dallas', 'City_Los Angeles', 'City_Mountain View', 'City_New York City', 'City_San Diego', 'City_Washington D.C.', 'Gender_Female', 'Gender_Male'] not in index\""
     ]
    }
   ],
   "source": [
    "#all of the following columns are features, we'll make a list of their names\n",
    "features = ['Age', 'Income', 'City_Austin', 'City_Boston', 'City_Dallas',\n",
    "       'City_Los Angeles', 'City_Mountain View', 'City_New York City',\n",
    "       'City_San Diego', 'City_Washington D.C.', 'Gender_Female',\n",
    "       'Gender_Male']\n",
    "\n",
    "X = data[features]\n",
    "\n",
    "#We want to target the ill column\n",
    "y = data.Illness"
   ]
  },
  {
   "cell_type": "code",
   "execution_count": 7,
   "metadata": {},
   "outputs": [
    {
     "ename": "NameError",
     "evalue": "name 'X' is not defined",
     "output_type": "error",
     "traceback": [
      "\u001b[1;31m---------------------------------------------------------------------------\u001b[0m",
      "\u001b[1;31mNameError\u001b[0m                                 Traceback (most recent call last)",
      "Cell \u001b[1;32mIn[7], line 1\u001b[0m\n\u001b[1;32m----> 1\u001b[0m X\u001b[38;5;241m.\u001b[39mshape, y\u001b[38;5;241m.\u001b[39mshape\n",
      "\u001b[1;31mNameError\u001b[0m: name 'X' is not defined"
     ]
    }
   ],
   "source": [
    "X.shape, y.shape"
   ]
  },
  {
   "cell_type": "markdown",
   "metadata": {
    "id": "nlTBwbCKCHwM"
   },
   "source": [
    "\n",
    "## Training and testing\n",
    "\n",
    "Now that we have built our model we need to get the data ready for it. We do this by breaking it into two different pieces. The diagram shows a conceptualization of how this is proportioned.\n",
    "\n",
    "![Train Test Split](https://raw.githubusercontent.com/BrockDSL/Machine_Learning_with_Python/master/train_test.png)\n",
    "\n",
    "- **Training set** - This is what is used to build the model. If we set this value too large the ML Model just _memorizes_ the data so we need to be careful when setting this value. This is called _overfitting_ the data.\n",
    "- **Testing set** - This is used to see if our guesses are correct\n",
    "\n",
    "Before we were looking at the **columns** of the data, this investigation of training/testing looks at the **rows** of data.\n",
    "\n"
   ]
  },
  {
   "cell_type": "code",
   "execution_count": 8,
   "metadata": {
    "id": "kql8ysGBCHwN"
   },
   "outputs": [
    {
     "ename": "NameError",
     "evalue": "name 'X' is not defined",
     "output_type": "error",
     "traceback": [
      "\u001b[1;31m---------------------------------------------------------------------------\u001b[0m",
      "\u001b[1;31mNameError\u001b[0m                                 Traceback (most recent call last)",
      "Cell \u001b[1;32mIn[8], line 7\u001b[0m\n\u001b[0;32m      4\u001b[0m test_percent \u001b[38;5;241m=\u001b[39m \u001b[38;5;241m30\u001b[39m\n\u001b[0;32m      5\u001b[0m train_percent \u001b[38;5;241m=\u001b[39m \u001b[38;5;241m100\u001b[39m \u001b[38;5;241m-\u001b[39m test_percent\n\u001b[1;32m----> 7\u001b[0m X_train, X_test, y_train, y_test \u001b[38;5;241m=\u001b[39m train_test_split(X,y, test_size\u001b[38;5;241m=\u001b[39mtest_percent\u001b[38;5;241m/\u001b[39m\u001b[38;5;241m100.0\u001b[39m,  random_state\u001b[38;5;241m=\u001b[39m\u001b[38;5;241m23\u001b[39m)\n",
      "\u001b[1;31mNameError\u001b[0m: name 'X' is not defined"
     ]
    }
   ],
   "source": [
    "#Training and test together make up 100% of the data!\n",
    "#We start with a baseline of 30% of our data as testing\n",
    "\n",
    "test_percent = 30\n",
    "train_percent = 100 - test_percent\n",
    "\n",
    "X_train, X_test, y_train, y_test = train_test_split(X,y, test_size=test_percent/100.0,  random_state=23)"
   ]
  },
  {
   "cell_type": "raw",
   "metadata": {},
   "source": []
  },
  {
   "cell_type": "markdown",
   "metadata": {
    "id": "GulNgEsnCHwN"
   },
   "source": [
    "Now the interesting part, we build our model, **train** it against the **training set** and see how it **predicts** against the **testing set**"
   ]
  },
  {
   "cell_type": "code",
   "execution_count": 105,
   "metadata": {
    "id": "2xHqPgYwCHwN"
   },
   "outputs": [],
   "source": [
    "# Create Decision Tree classifer object\n",
    "treeClass = DecisionTreeClassifier()\n",
    "\n",
    "# Train\n",
    "treeClass = treeClass.fit(X_train,y_train)\n",
    "\n",
    "#Predict\n",
    "y_pred = treeClass.predict(X_test)"
   ]
  },
  {
   "cell_type": "markdown",
   "metadata": {
    "id": "VL-cJsxdCHwN"
   },
   "source": [
    "## Accuracy of the Model\n",
    "\n",
    "To see how good our machine learning model is we need to see how accurate our predictions are. `Scikit` has built in functions and [metrics](https://scikit-learn.org/stable/modules/model_evaluation.html) to do this for us."
   ]
  },
  {
   "cell_type": "code",
   "execution_count": 116,
   "metadata": {
    "id": "m5r0C9JcCHwN"
   },
   "outputs": [
    {
     "name": "stdout",
     "output_type": "stream",
     "text": [
      "Accuracy: \n",
      "0.8681111111111111\n"
     ]
    }
   ],
   "source": [
    "print(\"Accuracy: \")\n",
    "print(metrics.accuracy_score(y_test,y_pred))"
   ]
  },
  {
   "cell_type": "markdown",
   "metadata": {},
   "source": [
    "## Using Different Models"
   ]
  },
  {
   "cell_type": "code",
   "execution_count": 119,
   "metadata": {},
   "outputs": [],
   "source": [
    "from sklearn.ensemble import AdaBoostClassifier, RandomForestClassifier"
   ]
  },
  {
   "cell_type": "code",
   "execution_count": 130,
   "metadata": {},
   "outputs": [
    {
     "name": "stdout",
     "output_type": "stream",
     "text": [
      "Accuracy: \n",
      "0.8688222222222223\n"
     ]
    }
   ],
   "source": [
    "# Create Decision Tree classifer object\n",
    "clsfier = RandomForestClassifier()\n",
    "\n",
    "# Train\n",
    "clsfier = clsfier.fit(X_train,y_train)\n",
    "\n",
    "#Predict\n",
    "y_pred = clsfier.predict(X_test)\n",
    "\n",
    "print(\"Accuracy: \")\n",
    "print(metrics.accuracy_score(y_test,y_pred))"
   ]
  },
  {
   "cell_type": "code",
   "execution_count": null,
   "metadata": {},
   "outputs": [],
   "source": []
  },
  {
   "cell_type": "code",
   "execution_count": 122,
   "metadata": {},
   "outputs": [
    {
     "name": "stdout",
     "output_type": "stream",
     "text": [
      "Accuracy: \n",
      "0.9191777777777778\n"
     ]
    }
   ],
   "source": [
    "# Create Decision Tree classifer object\n",
    "clsfier = AdaBoostClassifier()\n",
    "\n",
    "# Train\n",
    "clsfier = clsfier.fit(X_train,y_train)\n",
    "\n",
    "#Predict\n",
    "y_pred = clsfier.predict(X_test)\n",
    "\n",
    "print(\"Accuracy: \")\n",
    "print(metrics.accuracy_score(y_test,y_pred))"
   ]
  },
  {
   "cell_type": "markdown",
   "metadata": {},
   "source": [
    "Using default parameter values, Adaboost Classifier gives the highest accuracy. \n",
    "\n",
    "How about fine tuning the sam decision tree classifier. Could we get a better result?\n",
    "\n",
    "There are many parameters that can be tuned in a decision tree classifier. See https://scikit-learn.org/stable/modules/generated/sklearn.tree.DecisionTreeClassifier.html.\n",
    "\n",
    "As an example we will just tune the <b>max_depth</b>"
   ]
  },
  {
   "cell_type": "code",
   "execution_count": null,
   "metadata": {},
   "outputs": [],
   "source": []
  },
  {
   "cell_type": "code",
   "execution_count": 138,
   "metadata": {},
   "outputs": [
    {
     "name": "stdout",
     "output_type": "stream",
     "text": [
      "depth 1 Accuracy:  0.9191777777777778\n",
      "depth 3 Accuracy:  0.9191777777777778\n",
      "depth 5 Accuracy:  0.9191777777777778\n",
      "depth 10 Accuracy:  0.9187555555555555\n",
      "depth 15 Accuracy:  0.9183555555555556\n",
      "depth 20 Accuracy:  0.9168222222222222\n",
      "depth 50 Accuracy:  0.877\n",
      "depth 100 Accuracy:  0.8466888888888889\n",
      "depth None Accuracy:  0.8468888888888889\n"
     ]
    }
   ],
   "source": [
    "for d in [1, 3, 5,10,15,20, 50, 100, None]:\n",
    "    # Create Decision Tree classifer object\n",
    "    clsfier = DecisionTreeClassifier(max_depth=d, random_state=23)\n",
    "    \n",
    "    # Train\n",
    "    clsfier = clsfier.fit(X_train,y_train)\n",
    "    \n",
    "    #Predict\n",
    "    y_pred = clsfier.predict(X_test)\n",
    "    acc = metrics.accuracy_score(y_test,y_pred)\n",
    "    \n",
    "    print('depth', d, \"Accuracy: \", acc)"
   ]
  },
  {
   "cell_type": "markdown",
   "metadata": {},
   "source": [
    "With this dataset, the deeper the tree, the worse the accuracy. Note that this is not a universal behaviour, it may be different with different datasets"
   ]
  },
  {
   "cell_type": "markdown",
   "metadata": {},
   "source": [
    "## Saving and Reloading the Model"
   ]
  },
  {
   "cell_type": "code",
   "execution_count": 142,
   "metadata": {},
   "outputs": [
    {
     "name": "stdout",
     "output_type": "stream",
     "text": [
      "Accuracy: \n",
      "0.9191777777777778\n"
     ]
    }
   ],
   "source": [
    "# Create Decision Tree classifer object\n",
    "clsfier = AdaBoostClassifier()\n",
    "\n",
    "# Train\n",
    "clsfier = clsfier.fit(X_train,y_train)\n",
    "\n",
    "#Predict\n",
    "y_pred = clsfier.predict(X_test)\n",
    "\n",
    "print(\"Accuracy: \")\n",
    "print(metrics.accuracy_score(y_test,y_pred))\n",
    "\n",
    "#Let's use pickle to save the model as \n",
    "import pickle \n",
    "# save model using pickle\n",
    "with open('samplemodel.pkl','wb') as f:\n",
    "    pickle.dump(clsfier,f)"
   ]
  },
  {
   "cell_type": "code",
   "execution_count": 143,
   "metadata": {},
   "outputs": [],
   "source": [
    "# load the model you saved\n",
    "with open('samplemodel.pkl', 'rb') as f:\n",
    "    loadedModel = pickle.load(f)"
   ]
  },
  {
   "cell_type": "code",
   "execution_count": 144,
   "metadata": {},
   "outputs": [
    {
     "name": "stdout",
     "output_type": "stream",
     "text": [
      "Accuracy: \n",
      "0.9191777777777778\n"
     ]
    }
   ],
   "source": [
    "#Predict using loaded model\n",
    "y_pred = loadedModel.predict(X_test)\n",
    "\n",
    "print(\"Accuracy: \")\n",
    "print(metrics.accuracy_score(y_test,y_pred))"
   ]
  },
  {
   "cell_type": "code",
   "execution_count": null,
   "metadata": {},
   "outputs": [],
   "source": []
  },
  {
   "cell_type": "markdown",
   "metadata": {},
   "source": [
    "## Exercise\n",
    "Try to improve the performance of the Decision Tree further by tuning other parameters. Refer to online documentation.\n",
    "\n",
    "Similarly, try to improve performances of AdaBoostClassifier and RandomForestClassifier by fine tuning the models.\n",
    "\n",
    "You may also try to use other classification models available in sklearn package"
   ]
  },
  {
   "cell_type": "code",
   "execution_count": null,
   "metadata": {},
   "outputs": [],
   "source": []
  }
 ],
 "metadata": {
  "colab": {
   "provenance": []
  },
  "kernelspec": {
   "display_name": "Python 3 (ipykernel)",
   "language": "python",
   "name": "python3"
  },
  "language_info": {
   "codemirror_mode": {
    "name": "ipython",
    "version": 3
   },
   "file_extension": ".py",
   "mimetype": "text/x-python",
   "name": "python",
   "nbconvert_exporter": "python",
   "pygments_lexer": "ipython3",
   "version": "3.11.5"
  }
 },
 "nbformat": 4,
 "nbformat_minor": 4
}
